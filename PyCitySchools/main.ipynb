{
 "cells": [
  {
   "cell_type": "code",
   "execution_count": 3,
   "metadata": {},
   "outputs": [
    {
     "data": {
      "text/html": [
       "<div>\n",
       "<style scoped>\n",
       "    .dataframe tbody tr th:only-of-type {\n",
       "        vertical-align: middle;\n",
       "    }\n",
       "\n",
       "    .dataframe tbody tr th {\n",
       "        vertical-align: top;\n",
       "    }\n",
       "\n",
       "    .dataframe thead th {\n",
       "        text-align: right;\n",
       "    }\n",
       "</style>\n",
       "<table border=\"1\" class=\"dataframe\">\n",
       "  <thead>\n",
       "    <tr style=\"text-align: right;\">\n",
       "      <th></th>\n",
       "      <th>Student ID</th>\n",
       "      <th>student_name</th>\n",
       "      <th>gender</th>\n",
       "      <th>grade</th>\n",
       "      <th>school_name</th>\n",
       "      <th>reading_score</th>\n",
       "      <th>math_score</th>\n",
       "      <th>School ID</th>\n",
       "      <th>type</th>\n",
       "      <th>size</th>\n",
       "      <th>budget</th>\n",
       "    </tr>\n",
       "  </thead>\n",
       "  <tbody>\n",
       "    <tr>\n",
       "      <th>0</th>\n",
       "      <td>0</td>\n",
       "      <td>Paul Bradley</td>\n",
       "      <td>M</td>\n",
       "      <td>9th</td>\n",
       "      <td>Huang High School</td>\n",
       "      <td>66</td>\n",
       "      <td>79</td>\n",
       "      <td>0</td>\n",
       "      <td>District</td>\n",
       "      <td>2917</td>\n",
       "      <td>1910635</td>\n",
       "    </tr>\n",
       "    <tr>\n",
       "      <th>1</th>\n",
       "      <td>1</td>\n",
       "      <td>Victor Smith</td>\n",
       "      <td>M</td>\n",
       "      <td>12th</td>\n",
       "      <td>Huang High School</td>\n",
       "      <td>94</td>\n",
       "      <td>61</td>\n",
       "      <td>0</td>\n",
       "      <td>District</td>\n",
       "      <td>2917</td>\n",
       "      <td>1910635</td>\n",
       "    </tr>\n",
       "    <tr>\n",
       "      <th>2</th>\n",
       "      <td>2</td>\n",
       "      <td>Kevin Rodriguez</td>\n",
       "      <td>M</td>\n",
       "      <td>12th</td>\n",
       "      <td>Huang High School</td>\n",
       "      <td>90</td>\n",
       "      <td>60</td>\n",
       "      <td>0</td>\n",
       "      <td>District</td>\n",
       "      <td>2917</td>\n",
       "      <td>1910635</td>\n",
       "    </tr>\n",
       "    <tr>\n",
       "      <th>3</th>\n",
       "      <td>3</td>\n",
       "      <td>Dr. Richard Scott</td>\n",
       "      <td>M</td>\n",
       "      <td>12th</td>\n",
       "      <td>Huang High School</td>\n",
       "      <td>67</td>\n",
       "      <td>58</td>\n",
       "      <td>0</td>\n",
       "      <td>District</td>\n",
       "      <td>2917</td>\n",
       "      <td>1910635</td>\n",
       "    </tr>\n",
       "    <tr>\n",
       "      <th>4</th>\n",
       "      <td>4</td>\n",
       "      <td>Bonnie Ray</td>\n",
       "      <td>F</td>\n",
       "      <td>9th</td>\n",
       "      <td>Huang High School</td>\n",
       "      <td>97</td>\n",
       "      <td>84</td>\n",
       "      <td>0</td>\n",
       "      <td>District</td>\n",
       "      <td>2917</td>\n",
       "      <td>1910635</td>\n",
       "    </tr>\n",
       "  </tbody>\n",
       "</table>\n",
       "</div>"
      ],
      "text/plain": [
       "   Student ID       student_name gender grade        school_name  \\\n",
       "0           0       Paul Bradley      M   9th  Huang High School   \n",
       "1           1       Victor Smith      M  12th  Huang High School   \n",
       "2           2    Kevin Rodriguez      M  12th  Huang High School   \n",
       "3           3  Dr. Richard Scott      M  12th  Huang High School   \n",
       "4           4         Bonnie Ray      F   9th  Huang High School   \n",
       "\n",
       "   reading_score  math_score  School ID      type  size   budget  \n",
       "0             66          79          0  District  2917  1910635  \n",
       "1             94          61          0  District  2917  1910635  \n",
       "2             90          60          0  District  2917  1910635  \n",
       "3             67          58          0  District  2917  1910635  \n",
       "4             97          84          0  District  2917  1910635  "
      ]
     },
     "execution_count": 3,
     "metadata": {},
     "output_type": "execute_result"
    }
   ],
   "source": [
    "import pandas as pd\n",
    "\n",
    "#Load csv files\n",
    "school_csv = \"../Resources/schools_complete.csv\"\n",
    "student_csv = \"../Resources/students_complete.csv\"\n",
    "\n",
    "#Read School and Student csv files\n",
    "school_read = pd.read_csv(school_csv)\n",
    "student_read = pd.read_csv(student_csv)\n",
    "\n",
    "#Combine data files into single dataset and dataframe\n",
    "school_data_df = pd.merge(student_read, school_read, how= 'left', on=['school_name', 'school_name'])\n",
    "school_data_df.head()"
   ]
  },
  {
   "attachments": {},
   "cell_type": "markdown",
   "metadata": {},
   "source": [
    "District Summary"
   ]
  },
  {
   "cell_type": "code",
   "execution_count": 4,
   "metadata": {},
   "outputs": [
    {
     "data": {
      "text/plain": [
       "15"
      ]
     },
     "execution_count": 4,
     "metadata": {},
     "output_type": "execute_result"
    }
   ],
   "source": [
    "school_count = school_data_df['school_name'].nunique()\n",
    "school_count\n"
   ]
  },
  {
   "cell_type": "code",
   "execution_count": 5,
   "metadata": {},
   "outputs": [
    {
     "data": {
      "text/plain": [
       "39170"
      ]
     },
     "execution_count": 5,
     "metadata": {},
     "output_type": "execute_result"
    }
   ],
   "source": [
    "student_count = school_data_df['student_name'].value_counts()\n",
    "student_total = student_count.sum()\n",
    "student_total"
   ]
  },
  {
   "cell_type": "code",
   "execution_count": 6,
   "metadata": {},
   "outputs": [
    {
     "data": {
      "text/plain": [
       "24649428"
      ]
     },
     "execution_count": 6,
     "metadata": {},
     "output_type": "execute_result"
    }
   ],
   "source": [
    "total_budget = school_data_df['budget'].drop_duplicates()\n",
    "total = total_budget.sum()\n",
    "total\n"
   ]
  },
  {
   "cell_type": "code",
   "execution_count": 7,
   "metadata": {},
   "outputs": [
    {
     "data": {
      "text/plain": [
       "78.98537145774827"
      ]
     },
     "execution_count": 7,
     "metadata": {},
     "output_type": "execute_result"
    }
   ],
   "source": [
    "average_math_score = school_data_df['math_score'].mean()\n",
    "average_math_score"
   ]
  },
  {
   "cell_type": "code",
   "execution_count": 8,
   "metadata": {},
   "outputs": [
    {
     "data": {
      "text/plain": [
       "81.87784018381414"
      ]
     },
     "execution_count": 8,
     "metadata": {},
     "output_type": "execute_result"
    }
   ],
   "source": [
    "average_reading_score = school_data_df['reading_score'].mean()\n",
    "average_reading_score"
   ]
  },
  {
   "cell_type": "code",
   "execution_count": 9,
   "metadata": {},
   "outputs": [
    {
     "data": {
      "text/plain": [
       "74.9808526933878"
      ]
     },
     "execution_count": 9,
     "metadata": {},
     "output_type": "execute_result"
    }
   ],
   "source": [
    "passing_math_count = school_data_df[(school_data_df['math_score'] >= 70)].count()['student_name']\n",
    "mathPass_percent = passing_math_count / float(student_total) * 100\n",
    "mathPass_percent"
   ]
  },
  {
   "cell_type": "code",
   "execution_count": 10,
   "metadata": {},
   "outputs": [
    {
     "data": {
      "text/plain": [
       "85.80546336482001"
      ]
     },
     "execution_count": 10,
     "metadata": {},
     "output_type": "execute_result"
    }
   ],
   "source": [
    "passing_reading_count = school_data_df[(school_data_df['reading_score'] >= 70)].count()['student_name']\n",
    "readPass_percent = passing_reading_count / float(student_total) * 100\n",
    "readPass_percent"
   ]
  },
  {
   "cell_type": "code",
   "execution_count": 11,
   "metadata": {},
   "outputs": [
    {
     "data": {
      "text/plain": [
       "65.17232575950983"
      ]
     },
     "execution_count": 11,
     "metadata": {},
     "output_type": "execute_result"
    }
   ],
   "source": [
    "overall_pass_count = school_data_df[(school_data_df['math_score'] >= 70) & \n",
    "                                    (school_data_df['reading_score']>= 70)].count()['student_name']\n",
    "overall_passing = overall_pass_count / float(student_total) * 100\n",
    "overall_passing"
   ]
  },
  {
   "cell_type": "code",
   "execution_count": 12,
   "metadata": {},
   "outputs": [
    {
     "data": {
      "text/html": [
       "<div>\n",
       "<style scoped>\n",
       "    .dataframe tbody tr th:only-of-type {\n",
       "        vertical-align: middle;\n",
       "    }\n",
       "\n",
       "    .dataframe tbody tr th {\n",
       "        vertical-align: top;\n",
       "    }\n",
       "\n",
       "    .dataframe thead th {\n",
       "        text-align: right;\n",
       "    }\n",
       "</style>\n",
       "<table border=\"1\" class=\"dataframe\">\n",
       "  <thead>\n",
       "    <tr style=\"text-align: right;\">\n",
       "      <th></th>\n",
       "      <th>Total Schools</th>\n",
       "      <th>Total Students</th>\n",
       "      <th>Total Budget</th>\n",
       "      <th>Average Math Score</th>\n",
       "      <th>Average Reading Score</th>\n",
       "      <th>% Passing Math</th>\n",
       "      <th>% Passing Reading</th>\n",
       "      <th>% Overall Passing</th>\n",
       "    </tr>\n",
       "  </thead>\n",
       "  <tbody>\n",
       "    <tr>\n",
       "      <th>0</th>\n",
       "      <td>15</td>\n",
       "      <td>39,170</td>\n",
       "      <td>$24,649,428.00</td>\n",
       "      <td>78.985371</td>\n",
       "      <td>81.87784</td>\n",
       "      <td>74.980853</td>\n",
       "      <td>85.805463</td>\n",
       "      <td>65.172326</td>\n",
       "    </tr>\n",
       "  </tbody>\n",
       "</table>\n",
       "</div>"
      ],
      "text/plain": [
       "   Total Schools Total Students    Total Budget  Average Math Score  \\\n",
       "0             15         39,170  $24,649,428.00           78.985371   \n",
       "\n",
       "   Average Reading Score  % Passing Math  % Passing Reading  % Overall Passing  \n",
       "0               81.87784       74.980853          85.805463          65.172326  "
      ]
     },
     "execution_count": 12,
     "metadata": {},
     "output_type": "execute_result"
    }
   ],
   "source": [
    "district_summary = [{'Total Schools': school_count, 'Total Students': student_total, 'Total Budget': total,\n",
    "                     'Average Math Score': average_math_score, 'Average Reading Score': average_reading_score,\n",
    "                     '% Passing Math': mathPass_percent, '% Passing Reading': readPass_percent, '% Overall Passing': overall_passing}]\n",
    "\n",
    "district_summary = pd.DataFrame(district_summary)\n",
    "\n",
    "district_summary[\"Total Students\"] = district_summary[\"Total Students\"].map(\"{:,}\".format)\n",
    "district_summary[\"Total Budget\"] = district_summary[\"Total Budget\"].map(\"${:,.2f}\".format)\n",
    "\n",
    "district_summary"
   ]
  },
  {
   "attachments": {},
   "cell_type": "markdown",
   "metadata": {},
   "source": [
    "School Summary"
   ]
  },
  {
   "cell_type": "code",
   "execution_count": 84,
   "metadata": {},
   "outputs": [
    {
     "name": "stdout",
     "output_type": "stream",
     "text": [
      "school_name\n",
      "Huang High School     District\n",
      "Huang High School     District\n",
      "Huang High School     District\n",
      "Huang High School     District\n",
      "Huang High School     District\n",
      "                        ...   \n",
      "Thomas High School     Charter\n",
      "Thomas High School     Charter\n",
      "Thomas High School     Charter\n",
      "Thomas High School     Charter\n",
      "Thomas High School     Charter\n",
      "Name: type, Length: 39170, dtype: object\n"
     ]
    }
   ],
   "source": [
    "schoolType = school_data_df.set_index(['school_name'])['type']\n",
    "print(schoolType)"
   ]
  },
  {
   "cell_type": "code",
   "execution_count": 83,
   "metadata": {},
   "outputs": [
    {
     "name": "stdout",
     "output_type": "stream",
     "text": [
      "Bailey High School       4976\n",
      "Johnson High School      4761\n",
      "Hernandez High School    4635\n",
      "Rodriguez High School    3999\n",
      "Figueroa High School     2949\n",
      "Huang High School        2917\n",
      "Ford High School         2739\n",
      "Wilson High School       2283\n",
      "Cabrera High School      1858\n",
      "Wright High School       1800\n",
      "Shelton High School      1761\n",
      "Thomas High School       1635\n",
      "Griffin High School      1468\n",
      "Pena High School          962\n",
      "Holden High School        427\n",
      "Name: school_name, dtype: int64\n"
     ]
    }
   ],
   "source": [
    "student_per_school = school_data_df['school_name'].value_counts()\n",
    "print(student_per_school)\n"
   ]
  },
  {
   "cell_type": "code",
   "execution_count": 32,
   "metadata": {},
   "outputs": [
    {
     "data": {
      "text/plain": [
       "school_name\n",
       "Bailey High School      3124928.0\n",
       "Cabrera High School     1081356.0\n",
       "Figueroa High School    1884411.0\n",
       "Ford High School        1763916.0\n",
       "Griffin High School      917500.0\n",
       "Name: budget, dtype: float64"
      ]
     },
     "execution_count": 32,
     "metadata": {},
     "output_type": "execute_result"
    }
   ],
   "source": [
    "budget_per_school = school_data_df.groupby(['school_name']).mean()['budget']\n",
    "\n",
    "capita_per_school = budget_per_school / student_per_school\n",
    "\n",
    "budget_per_school.head()\n"
   ]
  },
  {
   "cell_type": "code",
   "execution_count": 85,
   "metadata": {},
   "outputs": [
    {
     "name": "stdout",
     "output_type": "stream",
     "text": [
      "school_name\n",
      "Bailey High School       77.048432\n",
      "Cabrera High School      83.061895\n",
      "Figueroa High School     76.711767\n",
      "Ford High School         77.102592\n",
      "Griffin High School      83.351499\n",
      "Hernandez High School    77.289752\n",
      "Holden High School       83.803279\n",
      "Huang High School        76.629414\n",
      "Johnson High School      77.072464\n",
      "Pena High School         83.839917\n",
      "Rodriguez High School    76.842711\n",
      "Shelton High School      83.359455\n",
      "Thomas High School       83.418349\n",
      "Wilson High School       83.274201\n",
      "Wright High School       83.682222\n",
      "Name: math_score, dtype: float64\n"
     ]
    }
   ],
   "source": [
    "math_per_school = school_data_df.groupby(['school_name']).mean()['math_score']\n",
    "reading_per_school = school_data_df.groupby(['school_name']).mean()['reading_score']\n",
    "\n",
    "print(math_per_school)"
   ]
  },
  {
   "cell_type": "code",
   "execution_count": 86,
   "metadata": {},
   "outputs": [
    {
     "name": "stdout",
     "output_type": "stream",
     "text": [
      "       Student ID     student_name gender grade         school_name  \\\n",
      "4               4       Bonnie Ray      F   9th   Huang High School   \n",
      "5               5    Bryan Miranda      M   9th   Huang High School   \n",
      "6               6    Sheena Carter      F  11th   Huang High School   \n",
      "8               8     Michael Roth      M  10th   Huang High School   \n",
      "9               9   Matthew Greene      M  10th   Huang High School   \n",
      "...           ...              ...    ...   ...                 ...   \n",
      "39165       39165     Donna Howard      F  12th  Thomas High School   \n",
      "39166       39166        Dawn Bell      F  10th  Thomas High School   \n",
      "39167       39167   Rebecca Tanner      F   9th  Thomas High School   \n",
      "39168       39168     Desiree Kidd      F  10th  Thomas High School   \n",
      "39169       39169  Carolyn Jackson      F  11th  Thomas High School   \n",
      "\n",
      "       reading_score  math_score  School ID      type  size   budget  \n",
      "4                 97          84          0  District  2917  1910635  \n",
      "5                 94          94          0  District  2917  1910635  \n",
      "6                 82          80          0  District  2917  1910635  \n",
      "8                 95          87          0  District  2917  1910635  \n",
      "9                 96          84          0  District  2917  1910635  \n",
      "...              ...         ...        ...       ...   ...      ...  \n",
      "39165             99          90         14   Charter  1635  1043130  \n",
      "39166             95          70         14   Charter  1635  1043130  \n",
      "39167             73          84         14   Charter  1635  1043130  \n",
      "39168             99          90         14   Charter  1635  1043130  \n",
      "39169             95          75         14   Charter  1635  1043130  \n",
      "\n",
      "[25528 rows x 11 columns]\n"
     ]
    }
   ],
   "source": [
    "math_pass = school_data_df[(school_data_df['math_score'] >= 70)]\n",
    "read_pass = school_data_df[(school_data_df['reading_score'] >= 70)]\n",
    "math_read_pass = school_data_df[(school_data_df['reading_score'] >= 70) &\n",
    "                                (school_data_df['math_score'] >= 70)]\n",
    "\n",
    "print(math_read_pass)"
   ]
  },
  {
   "cell_type": "code",
   "execution_count": 76,
   "metadata": {},
   "outputs": [
    {
     "data": {
      "text/plain": [
       "Bailey High School       54.642283\n",
       "Cabrera High School      91.334769\n",
       "Figueroa High School     53.204476\n",
       "Ford High School         54.289887\n",
       "Griffin High School      90.599455\n",
       "Hernandez High School    53.527508\n",
       "Holden High School       89.227166\n",
       "Huang High School        53.513884\n",
       "Johnson High School      53.539172\n",
       "Pena High School         90.540541\n",
       "Rodriguez High School    52.988247\n",
       "Shelton High School      89.892107\n",
       "Thomas High School       90.948012\n",
       "Wilson High School       90.582567\n",
       "Wright High School       90.333333\n",
       "dtype: float64"
      ]
     },
     "execution_count": 76,
     "metadata": {},
     "output_type": "execute_result"
    }
   ],
   "source": [
    "pass_math_per_school = math_pass.groupby(['school_name']).count()['student_name']\n",
    "pass_math_perc_school = pass_math_per_school / student_per_school * 100\n",
    "\n",
    "pass_read_per_school = read_pass.groupby(['school_name']).count()['student_name']\n",
    "pass_read_perc_school = pass_read_per_school / student_per_school * 100\n",
    "\n",
    "math_read_pass = math_read_pass.groupby(['school_name']).count()['student_name']\n",
    "overall_pass_perc_school = math_read_pass / student_per_school * 100\n",
    "\n",
    "overall_pass_perc_school.head(20)"
   ]
  },
  {
   "cell_type": "code",
   "execution_count": 81,
   "metadata": {},
   "outputs": [
    {
     "name": "stdout",
     "output_type": "stream",
     "text": [
      "                                         School Type  \\\n",
      "0  school_name\n",
      "Huang High School     District\n",
      "Hua...   \n",
      "\n",
      "                                      Total Students  \\\n",
      "0  Bailey High School       4976\n",
      "Johnson High Sch...   \n",
      "\n",
      "                                 Total School Budget  \\\n",
      "0  school_name\n",
      "Bailey High School       3124928.0...   \n",
      "\n",
      "                                  Per Student Budget  \\\n",
      "0  Bailey High School       628.0\n",
      "Cabrera High Sc...   \n",
      "\n",
      "                                  Average Math Score  \\\n",
      "0  school_name\n",
      "Bailey High School       77.048432...   \n",
      "\n",
      "                               Average Reading Score  \\\n",
      "0  school_name\n",
      "Bailey High School       81.033963...   \n",
      "\n",
      "                                      % Passing Math  \\\n",
      "0  Bailey High School       66.680064\n",
      "Cabrera Hig...   \n",
      "\n",
      "                                   % Passing Reading  \\\n",
      "0  Bailey High School       81.933280\n",
      "Cabrera Hig...   \n",
      "\n",
      "                                   % Overall Passing  \n",
      "0  Bailey High School       54.642283\n",
      "Cabrera Hig...  \n"
     ]
    }
   ],
   "source": [
    "school_summary = [{'School Type': schoolType, \n",
    "                   'Total Students': student_per_school,\n",
    "                   'Total School Budget': budget_per_school,\n",
    "                   'Per Student Budget': capita_per_school,\n",
    "                   'Average Math Score': math_per_school,\n",
    "                   'Average Reading Score': reading_per_school,\n",
    "                   '% Passing Math': pass_math_perc_school,\n",
    "                   '% Passing Reading': pass_read_perc_school,\n",
    "                   '% Overall Passing': overall_pass_perc_school}]\n",
    "\n",
    "school_summary = pd.DataFrame(school_summary)\n",
    "\n",
    "#school_summary['Total School Budget'] = school_summary['Total School Budget'].map('${:,.2f}'.format)\n",
    "#school_summary['Per Student Budget'] = school_summary['Per Student Budget'].map('${:,.2f}'.format)\n",
    "\n",
    "print(school_summary)"
   ]
  },
  {
   "cell_type": "markdown",
   "metadata": {},
   "source": []
  }
 ],
 "metadata": {
  "kernelspec": {
   "display_name": "base",
   "language": "python",
   "name": "python3"
  },
  "language_info": {
   "codemirror_mode": {
    "name": "ipython",
    "version": 3
   },
   "file_extension": ".py",
   "mimetype": "text/x-python",
   "name": "python",
   "nbconvert_exporter": "python",
   "pygments_lexer": "ipython3",
   "version": "3.9.13"
  },
  "orig_nbformat": 4
 },
 "nbformat": 4,
 "nbformat_minor": 2
}
